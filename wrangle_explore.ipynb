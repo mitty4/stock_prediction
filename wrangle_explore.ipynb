{
 "cells": [
  {
   "cell_type": "markdown",
   "metadata": {},
   "source": [
    "## Content\n",
    "\n",
    "### <a href='#wrangle'>Data Wrangling</a>\n",
    "<ul>\n",
    "    <li><a href='#basics'>DF basics</a></li>\n",
    "    <li><a href='#dtype'>Update DTypes</a></li>\n",
    "    <li><a href='#symbols'>Checkout Stock Symbols</a></li>\n",
    "    <li><a href='#unique'>Uniqueness Across Different DFs</a></li>\n",
    "    <li><a href='#null'>Visualize Null Values with Heatmap</a></li>\n",
    "    <li><a href='#drop'>Handle Null Values</a></li>\n",
    "</ul>\n",
    "\n",
    "### <a href='#explore'>Exploratory Data Analysis</a>\n",
    "<ul>\n",
    "    <li><a href='#sma'>Create Simple Moving Average columns 5day, 50day and 100day</a></li>\n",
    "    <li><a href='#ema'>Create Exponential Moving Average columns</a></li>\n",
    "    <li><a href='#rsi'>Create RSI columns</a></li>\n",
    "    <li><a href='#visualize'>Visualize the New Columns VS Prices</a></li>\n",
    "</ul>"
   ]
  },
  {
   "cell_type": "markdown",
   "metadata": {},
   "source": [
    "### <span id='import'>Import</span>"
   ]
  },
  {
   "cell_type": "code",
   "execution_count": 1,
   "metadata": {},
   "outputs": [],
   "source": [
    "import pandas as pd\n",
    "import numpy as np\n",
    "import seaborn as sns\n",
    "import matplotlib.pyplot as plt"
   ]
  },
  {
   "cell_type": "code",
   "execution_count": 2,
   "metadata": {},
   "outputs": [],
   "source": [
    "prices = pd.read_csv('./data/prices.csv')\n",
    "securities = pd.read_csv('./data/securities.csv')\n",
    "fundamentals = pd.read_csv('./data/fundamentals.csv', index_col=0)\n",
    "prices_split = pd.read_csv('./data/prices-split-adjusted.csv')"
   ]
  },
  {
   "cell_type": "markdown",
   "metadata": {},
   "source": [
    "## <span id='wrangle'>Data Wrangling</span>"
   ]
  },
  {
   "cell_type": "markdown",
   "metadata": {},
   "source": [
    "### <span id='basics'>Explore DataFrames Basics</span>"
   ]
  },
  {
   "cell_type": "code",
   "execution_count": 3,
   "metadata": {},
   "outputs": [],
   "source": [
    "from IPython.display import display"
   ]
  },
  {
   "cell_type": "code",
   "execution_count": 68,
   "metadata": {},
   "outputs": [],
   "source": [
    "# print basics for each DF recursively by a custom function\n",
    "# parameters are lists of dataframes and lists of desired methods \n",
    "def explore_all(df_dict, funcs):\n",
    "    methods = ['dtypes', 'shape', 'columns','shape']\n",
    "    for i, df in enumerate(df_dict.values()):\n",
    "        name = list(DFs.keys())[i]\n",
    "        print('_________________________________________________________________________________________________________')\n",
    "        print('DataFrame Name: ',name)\n",
    "        print('_________________________________________________________________________________________________________')\n",
    "        print('_________________________________________________________________________________________________________')\n",
    "        print('_________________________________________________________________________________________________________')\n",
    "        for func in funcs:\n",
    "            if func in methods:\n",
    "                display(getattr(df, func))\n",
    "                print('In ',name,' called^^^^Method: .{}'.format(func))\n",
    "            else:\n",
    "                display(getattr(df, func)())\n",
    "                print('In ',name,' called^^^^Method: .{}()'.format(func))\n",
    "\n",
    "        "
   ]
  },
  {
   "cell_type": "code",
   "execution_count": 69,
   "metadata": {
    "scrolled": true
   },
   "outputs": [
    {
     "name": "stdout",
     "output_type": "stream",
     "text": [
      "_________________________________________________________________________________________________________\n",
      "DataFrame Name:  prices\n",
      "_________________________________________________________________________________________________________\n",
      "_________________________________________________________________________________________________________\n",
      "_________________________________________________________________________________________________________\n"
     ]
    },
    {
     "data": {
      "text/plain": [
       "Index(['date', 'symbol', 'open', 'close', 'low', 'high', 'volume'], dtype='object')"
      ]
     },
     "metadata": {},
     "output_type": "display_data"
    },
    {
     "name": "stdout",
     "output_type": "stream",
     "text": [
      "In  prices  called^^^^Method: .columns\n"
     ]
    },
    {
     "data": {
      "text/html": [
       "<div>\n",
       "<style scoped>\n",
       "    .dataframe tbody tr th:only-of-type {\n",
       "        vertical-align: middle;\n",
       "    }\n",
       "\n",
       "    .dataframe tbody tr th {\n",
       "        vertical-align: top;\n",
       "    }\n",
       "\n",
       "    .dataframe thead th {\n",
       "        text-align: right;\n",
       "    }\n",
       "</style>\n",
       "<table border=\"1\" class=\"dataframe\">\n",
       "  <thead>\n",
       "    <tr style=\"text-align: right;\">\n",
       "      <th></th>\n",
       "      <th>date</th>\n",
       "      <th>symbol</th>\n",
       "      <th>open</th>\n",
       "      <th>close</th>\n",
       "      <th>low</th>\n",
       "      <th>high</th>\n",
       "      <th>volume</th>\n",
       "    </tr>\n",
       "  </thead>\n",
       "  <tbody>\n",
       "    <tr>\n",
       "      <th>0</th>\n",
       "      <td>2016-01-05</td>\n",
       "      <td>WLTW</td>\n",
       "      <td>123.430000</td>\n",
       "      <td>125.839996</td>\n",
       "      <td>122.309998</td>\n",
       "      <td>126.250000</td>\n",
       "      <td>2163600.0</td>\n",
       "    </tr>\n",
       "    <tr>\n",
       "      <th>1</th>\n",
       "      <td>2016-01-06</td>\n",
       "      <td>WLTW</td>\n",
       "      <td>125.239998</td>\n",
       "      <td>119.980003</td>\n",
       "      <td>119.940002</td>\n",
       "      <td>125.540001</td>\n",
       "      <td>2386400.0</td>\n",
       "    </tr>\n",
       "    <tr>\n",
       "      <th>2</th>\n",
       "      <td>2016-01-07</td>\n",
       "      <td>WLTW</td>\n",
       "      <td>116.379997</td>\n",
       "      <td>114.949997</td>\n",
       "      <td>114.930000</td>\n",
       "      <td>119.739998</td>\n",
       "      <td>2489500.0</td>\n",
       "    </tr>\n",
       "    <tr>\n",
       "      <th>3</th>\n",
       "      <td>2016-01-08</td>\n",
       "      <td>WLTW</td>\n",
       "      <td>115.480003</td>\n",
       "      <td>116.620003</td>\n",
       "      <td>113.500000</td>\n",
       "      <td>117.440002</td>\n",
       "      <td>2006300.0</td>\n",
       "    </tr>\n",
       "    <tr>\n",
       "      <th>4</th>\n",
       "      <td>2016-01-11</td>\n",
       "      <td>WLTW</td>\n",
       "      <td>117.010002</td>\n",
       "      <td>114.970001</td>\n",
       "      <td>114.089996</td>\n",
       "      <td>117.330002</td>\n",
       "      <td>1408600.0</td>\n",
       "    </tr>\n",
       "  </tbody>\n",
       "</table>\n",
       "</div>"
      ],
      "text/plain": [
       "        date symbol        open       close         low        high     volume\n",
       "0 2016-01-05   WLTW  123.430000  125.839996  122.309998  126.250000  2163600.0\n",
       "1 2016-01-06   WLTW  125.239998  119.980003  119.940002  125.540001  2386400.0\n",
       "2 2016-01-07   WLTW  116.379997  114.949997  114.930000  119.739998  2489500.0\n",
       "3 2016-01-08   WLTW  115.480003  116.620003  113.500000  117.440002  2006300.0\n",
       "4 2016-01-11   WLTW  117.010002  114.970001  114.089996  117.330002  1408600.0"
      ]
     },
     "metadata": {},
     "output_type": "display_data"
    },
    {
     "name": "stdout",
     "output_type": "stream",
     "text": [
      "In  prices  called^^^^Method: .head()\n"
     ]
    },
    {
     "data": {
      "text/plain": [
       "date      datetime64[ns]\n",
       "symbol            object\n",
       "open             float64\n",
       "close            float64\n",
       "low              float64\n",
       "high             float64\n",
       "volume           float64\n",
       "dtype: object"
      ]
     },
     "metadata": {},
     "output_type": "display_data"
    },
    {
     "name": "stdout",
     "output_type": "stream",
     "text": [
      "In  prices  called^^^^Method: .dtypes\n"
     ]
    },
    {
     "data": {
      "text/html": [
       "<div>\n",
       "<style scoped>\n",
       "    .dataframe tbody tr th:only-of-type {\n",
       "        vertical-align: middle;\n",
       "    }\n",
       "\n",
       "    .dataframe tbody tr th {\n",
       "        vertical-align: top;\n",
       "    }\n",
       "\n",
       "    .dataframe thead th {\n",
       "        text-align: right;\n",
       "    }\n",
       "</style>\n",
       "<table border=\"1\" class=\"dataframe\">\n",
       "  <thead>\n",
       "    <tr style=\"text-align: right;\">\n",
       "      <th></th>\n",
       "      <th>open</th>\n",
       "      <th>close</th>\n",
       "      <th>low</th>\n",
       "      <th>high</th>\n",
       "      <th>volume</th>\n",
       "    </tr>\n",
       "  </thead>\n",
       "  <tbody>\n",
       "    <tr>\n",
       "      <th>count</th>\n",
       "      <td>851264.000000</td>\n",
       "      <td>851264.000000</td>\n",
       "      <td>851264.000000</td>\n",
       "      <td>851264.000000</td>\n",
       "      <td>8.512640e+05</td>\n",
       "    </tr>\n",
       "    <tr>\n",
       "      <th>mean</th>\n",
       "      <td>70.836986</td>\n",
       "      <td>70.857109</td>\n",
       "      <td>70.118414</td>\n",
       "      <td>71.543476</td>\n",
       "      <td>5.415113e+06</td>\n",
       "    </tr>\n",
       "    <tr>\n",
       "      <th>std</th>\n",
       "      <td>83.695876</td>\n",
       "      <td>83.689686</td>\n",
       "      <td>82.877294</td>\n",
       "      <td>84.465504</td>\n",
       "      <td>1.249468e+07</td>\n",
       "    </tr>\n",
       "    <tr>\n",
       "      <th>min</th>\n",
       "      <td>0.850000</td>\n",
       "      <td>0.860000</td>\n",
       "      <td>0.830000</td>\n",
       "      <td>0.880000</td>\n",
       "      <td>0.000000e+00</td>\n",
       "    </tr>\n",
       "    <tr>\n",
       "      <th>25%</th>\n",
       "      <td>33.840000</td>\n",
       "      <td>33.849998</td>\n",
       "      <td>33.480000</td>\n",
       "      <td>34.189999</td>\n",
       "      <td>1.221500e+06</td>\n",
       "    </tr>\n",
       "    <tr>\n",
       "      <th>50%</th>\n",
       "      <td>52.770000</td>\n",
       "      <td>52.799999</td>\n",
       "      <td>52.230000</td>\n",
       "      <td>53.310001</td>\n",
       "      <td>2.476250e+06</td>\n",
       "    </tr>\n",
       "    <tr>\n",
       "      <th>75%</th>\n",
       "      <td>79.879997</td>\n",
       "      <td>79.889999</td>\n",
       "      <td>79.110001</td>\n",
       "      <td>80.610001</td>\n",
       "      <td>5.222500e+06</td>\n",
       "    </tr>\n",
       "    <tr>\n",
       "      <th>max</th>\n",
       "      <td>1584.439941</td>\n",
       "      <td>1578.130005</td>\n",
       "      <td>1549.939941</td>\n",
       "      <td>1600.930054</td>\n",
       "      <td>8.596434e+08</td>\n",
       "    </tr>\n",
       "  </tbody>\n",
       "</table>\n",
       "</div>"
      ],
      "text/plain": [
       "                open          close            low           high  \\\n",
       "count  851264.000000  851264.000000  851264.000000  851264.000000   \n",
       "mean       70.836986      70.857109      70.118414      71.543476   \n",
       "std        83.695876      83.689686      82.877294      84.465504   \n",
       "min         0.850000       0.860000       0.830000       0.880000   \n",
       "25%        33.840000      33.849998      33.480000      34.189999   \n",
       "50%        52.770000      52.799999      52.230000      53.310001   \n",
       "75%        79.879997      79.889999      79.110001      80.610001   \n",
       "max      1584.439941    1578.130005    1549.939941    1600.930054   \n",
       "\n",
       "             volume  \n",
       "count  8.512640e+05  \n",
       "mean   5.415113e+06  \n",
       "std    1.249468e+07  \n",
       "min    0.000000e+00  \n",
       "25%    1.221500e+06  \n",
       "50%    2.476250e+06  \n",
       "75%    5.222500e+06  \n",
       "max    8.596434e+08  "
      ]
     },
     "metadata": {},
     "output_type": "display_data"
    },
    {
     "name": "stdout",
     "output_type": "stream",
     "text": [
      "In  prices  called^^^^Method: .describe()\n"
     ]
    },
    {
     "data": {
      "text/plain": [
       "(851264, 7)"
      ]
     },
     "metadata": {},
     "output_type": "display_data"
    },
    {
     "name": "stdout",
     "output_type": "stream",
     "text": [
      "In  prices  called^^^^Method: .shape\n",
      "_________________________________________________________________________________________________________\n",
      "DataFrame Name:  prices_split\n",
      "_________________________________________________________________________________________________________\n",
      "_________________________________________________________________________________________________________\n",
      "_________________________________________________________________________________________________________\n"
     ]
    },
    {
     "data": {
      "text/plain": [
       "Index(['date', 'symbol', 'open', 'close', 'low', 'high', 'volume'], dtype='object')"
      ]
     },
     "metadata": {},
     "output_type": "display_data"
    },
    {
     "name": "stdout",
     "output_type": "stream",
     "text": [
      "In  prices_split  called^^^^Method: .columns\n"
     ]
    },
    {
     "data": {
      "text/html": [
       "<div>\n",
       "<style scoped>\n",
       "    .dataframe tbody tr th:only-of-type {\n",
       "        vertical-align: middle;\n",
       "    }\n",
       "\n",
       "    .dataframe tbody tr th {\n",
       "        vertical-align: top;\n",
       "    }\n",
       "\n",
       "    .dataframe thead th {\n",
       "        text-align: right;\n",
       "    }\n",
       "</style>\n",
       "<table border=\"1\" class=\"dataframe\">\n",
       "  <thead>\n",
       "    <tr style=\"text-align: right;\">\n",
       "      <th></th>\n",
       "      <th>date</th>\n",
       "      <th>symbol</th>\n",
       "      <th>open</th>\n",
       "      <th>close</th>\n",
       "      <th>low</th>\n",
       "      <th>high</th>\n",
       "      <th>volume</th>\n",
       "    </tr>\n",
       "  </thead>\n",
       "  <tbody>\n",
       "    <tr>\n",
       "      <th>0</th>\n",
       "      <td>2016-01-05</td>\n",
       "      <td>WLTW</td>\n",
       "      <td>123.430000</td>\n",
       "      <td>125.839996</td>\n",
       "      <td>122.309998</td>\n",
       "      <td>126.250000</td>\n",
       "      <td>2163600.0</td>\n",
       "    </tr>\n",
       "    <tr>\n",
       "      <th>1</th>\n",
       "      <td>2016-01-06</td>\n",
       "      <td>WLTW</td>\n",
       "      <td>125.239998</td>\n",
       "      <td>119.980003</td>\n",
       "      <td>119.940002</td>\n",
       "      <td>125.540001</td>\n",
       "      <td>2386400.0</td>\n",
       "    </tr>\n",
       "    <tr>\n",
       "      <th>2</th>\n",
       "      <td>2016-01-07</td>\n",
       "      <td>WLTW</td>\n",
       "      <td>116.379997</td>\n",
       "      <td>114.949997</td>\n",
       "      <td>114.930000</td>\n",
       "      <td>119.739998</td>\n",
       "      <td>2489500.0</td>\n",
       "    </tr>\n",
       "    <tr>\n",
       "      <th>3</th>\n",
       "      <td>2016-01-08</td>\n",
       "      <td>WLTW</td>\n",
       "      <td>115.480003</td>\n",
       "      <td>116.620003</td>\n",
       "      <td>113.500000</td>\n",
       "      <td>117.440002</td>\n",
       "      <td>2006300.0</td>\n",
       "    </tr>\n",
       "    <tr>\n",
       "      <th>4</th>\n",
       "      <td>2016-01-11</td>\n",
       "      <td>WLTW</td>\n",
       "      <td>117.010002</td>\n",
       "      <td>114.970001</td>\n",
       "      <td>114.089996</td>\n",
       "      <td>117.330002</td>\n",
       "      <td>1408600.0</td>\n",
       "    </tr>\n",
       "  </tbody>\n",
       "</table>\n",
       "</div>"
      ],
      "text/plain": [
       "        date symbol        open       close         low        high     volume\n",
       "0 2016-01-05   WLTW  123.430000  125.839996  122.309998  126.250000  2163600.0\n",
       "1 2016-01-06   WLTW  125.239998  119.980003  119.940002  125.540001  2386400.0\n",
       "2 2016-01-07   WLTW  116.379997  114.949997  114.930000  119.739998  2489500.0\n",
       "3 2016-01-08   WLTW  115.480003  116.620003  113.500000  117.440002  2006300.0\n",
       "4 2016-01-11   WLTW  117.010002  114.970001  114.089996  117.330002  1408600.0"
      ]
     },
     "metadata": {},
     "output_type": "display_data"
    },
    {
     "name": "stdout",
     "output_type": "stream",
     "text": [
      "In  prices_split  called^^^^Method: .head()\n"
     ]
    },
    {
     "data": {
      "text/plain": [
       "date      datetime64[ns]\n",
       "symbol            object\n",
       "open             float64\n",
       "close            float64\n",
       "low              float64\n",
       "high             float64\n",
       "volume           float64\n",
       "dtype: object"
      ]
     },
     "metadata": {},
     "output_type": "display_data"
    },
    {
     "name": "stdout",
     "output_type": "stream",
     "text": [
      "In  prices_split  called^^^^Method: .dtypes\n"
     ]
    },
    {
     "data": {
      "text/html": [
       "<div>\n",
       "<style scoped>\n",
       "    .dataframe tbody tr th:only-of-type {\n",
       "        vertical-align: middle;\n",
       "    }\n",
       "\n",
       "    .dataframe tbody tr th {\n",
       "        vertical-align: top;\n",
       "    }\n",
       "\n",
       "    .dataframe thead th {\n",
       "        text-align: right;\n",
       "    }\n",
       "</style>\n",
       "<table border=\"1\" class=\"dataframe\">\n",
       "  <thead>\n",
       "    <tr style=\"text-align: right;\">\n",
       "      <th></th>\n",
       "      <th>open</th>\n",
       "      <th>close</th>\n",
       "      <th>low</th>\n",
       "      <th>high</th>\n",
       "      <th>volume</th>\n",
       "    </tr>\n",
       "  </thead>\n",
       "  <tbody>\n",
       "    <tr>\n",
       "      <th>count</th>\n",
       "      <td>851264.000000</td>\n",
       "      <td>851264.000000</td>\n",
       "      <td>851264.000000</td>\n",
       "      <td>851264.000000</td>\n",
       "      <td>8.512640e+05</td>\n",
       "    </tr>\n",
       "    <tr>\n",
       "      <th>mean</th>\n",
       "      <td>64.993618</td>\n",
       "      <td>65.011913</td>\n",
       "      <td>64.336541</td>\n",
       "      <td>65.639748</td>\n",
       "      <td>5.415113e+06</td>\n",
       "    </tr>\n",
       "    <tr>\n",
       "      <th>std</th>\n",
       "      <td>75.203893</td>\n",
       "      <td>75.201216</td>\n",
       "      <td>74.459518</td>\n",
       "      <td>75.906861</td>\n",
       "      <td>1.249468e+07</td>\n",
       "    </tr>\n",
       "    <tr>\n",
       "      <th>min</th>\n",
       "      <td>1.660000</td>\n",
       "      <td>1.590000</td>\n",
       "      <td>1.500000</td>\n",
       "      <td>1.810000</td>\n",
       "      <td>0.000000e+00</td>\n",
       "    </tr>\n",
       "    <tr>\n",
       "      <th>25%</th>\n",
       "      <td>31.270000</td>\n",
       "      <td>31.292776</td>\n",
       "      <td>30.940001</td>\n",
       "      <td>31.620001</td>\n",
       "      <td>1.221500e+06</td>\n",
       "    </tr>\n",
       "    <tr>\n",
       "      <th>50%</th>\n",
       "      <td>48.459999</td>\n",
       "      <td>48.480000</td>\n",
       "      <td>47.970001</td>\n",
       "      <td>48.959999</td>\n",
       "      <td>2.476250e+06</td>\n",
       "    </tr>\n",
       "    <tr>\n",
       "      <th>75%</th>\n",
       "      <td>75.120003</td>\n",
       "      <td>75.139999</td>\n",
       "      <td>74.400002</td>\n",
       "      <td>75.849998</td>\n",
       "      <td>5.222500e+06</td>\n",
       "    </tr>\n",
       "    <tr>\n",
       "      <th>max</th>\n",
       "      <td>1584.439941</td>\n",
       "      <td>1578.130005</td>\n",
       "      <td>1549.939941</td>\n",
       "      <td>1600.930054</td>\n",
       "      <td>8.596434e+08</td>\n",
       "    </tr>\n",
       "  </tbody>\n",
       "</table>\n",
       "</div>"
      ],
      "text/plain": [
       "                open          close            low           high  \\\n",
       "count  851264.000000  851264.000000  851264.000000  851264.000000   \n",
       "mean       64.993618      65.011913      64.336541      65.639748   \n",
       "std        75.203893      75.201216      74.459518      75.906861   \n",
       "min         1.660000       1.590000       1.500000       1.810000   \n",
       "25%        31.270000      31.292776      30.940001      31.620001   \n",
       "50%        48.459999      48.480000      47.970001      48.959999   \n",
       "75%        75.120003      75.139999      74.400002      75.849998   \n",
       "max      1584.439941    1578.130005    1549.939941    1600.930054   \n",
       "\n",
       "             volume  \n",
       "count  8.512640e+05  \n",
       "mean   5.415113e+06  \n",
       "std    1.249468e+07  \n",
       "min    0.000000e+00  \n",
       "25%    1.221500e+06  \n",
       "50%    2.476250e+06  \n",
       "75%    5.222500e+06  \n",
       "max    8.596434e+08  "
      ]
     },
     "metadata": {},
     "output_type": "display_data"
    },
    {
     "name": "stdout",
     "output_type": "stream",
     "text": [
      "In  prices_split  called^^^^Method: .describe()\n"
     ]
    },
    {
     "data": {
      "text/plain": [
       "(851264, 7)"
      ]
     },
     "metadata": {},
     "output_type": "display_data"
    },
    {
     "name": "stdout",
     "output_type": "stream",
     "text": [
      "In  prices_split  called^^^^Method: .shape\n",
      "_________________________________________________________________________________________________________\n",
      "DataFrame Name:  fundamentals\n",
      "_________________________________________________________________________________________________________\n",
      "_________________________________________________________________________________________________________\n",
      "_________________________________________________________________________________________________________\n"
     ]
    },
    {
     "data": {
      "text/plain": [
       "Index(['Ticker Symbol', 'Period Ending', 'Accounts Payable',\n",
       "       'Accounts Receivable', 'Add'l income/expense items', 'After Tax ROE',\n",
       "       'Capital Expenditures', 'Capital Surplus', 'Cash Ratio',\n",
       "       'Cash and Cash Equivalents', 'Changes in Inventories', 'Common Stocks',\n",
       "       'Cost of Revenue', 'Current Ratio', 'Deferred Asset Charges',\n",
       "       'Deferred Liability Charges', 'Depreciation',\n",
       "       'Earnings Before Interest and Tax', 'Earnings Before Tax',\n",
       "       'Effect of Exchange Rate',\n",
       "       'Equity Earnings/Loss Unconsolidated Subsidiary', 'Fixed Assets',\n",
       "       'Goodwill', 'Gross Margin', 'Gross Profit', 'Income Tax',\n",
       "       'Intangible Assets', 'Interest Expense', 'Inventory', 'Investments',\n",
       "       'Liabilities', 'Long-Term Debt', 'Long-Term Investments',\n",
       "       'Minority Interest', 'Misc. Stocks', 'Net Borrowings', 'Net Cash Flow',\n",
       "       'Net Cash Flow-Operating', 'Net Cash Flows-Financing',\n",
       "       'Net Cash Flows-Investing', 'Net Income', 'Net Income Adjustments',\n",
       "       'Net Income Applicable to Common Shareholders',\n",
       "       'Net Income-Cont. Operations', 'Net Receivables', 'Non-Recurring Items',\n",
       "       'Operating Income', 'Operating Margin', 'Other Assets',\n",
       "       'Other Current Assets', 'Other Current Liabilities', 'Other Equity',\n",
       "       'Other Financing Activities', 'Other Investing Activities',\n",
       "       'Other Liabilities', 'Other Operating Activities',\n",
       "       'Other Operating Items', 'Pre-Tax Margin', 'Pre-Tax ROE',\n",
       "       'Profit Margin', 'Quick Ratio', 'Research and Development',\n",
       "       'Retained Earnings', 'Sale and Purchase of Stock',\n",
       "       'Sales, General and Admin.',\n",
       "       'Short-Term Debt / Current Portion of Long-Term Debt',\n",
       "       'Short-Term Investments', 'Total Assets', 'Total Current Assets',\n",
       "       'Total Current Liabilities', 'Total Equity', 'Total Liabilities',\n",
       "       'Total Liabilities & Equity', 'Total Revenue', 'Treasury Stock',\n",
       "       'For Year', 'Earnings Per Share', 'Estimated Shares Outstanding'],\n",
       "      dtype='object')"
      ]
     },
     "metadata": {},
     "output_type": "display_data"
    },
    {
     "name": "stdout",
     "output_type": "stream",
     "text": [
      "In  fundamentals  called^^^^Method: .columns\n"
     ]
    },
    {
     "data": {
      "text/html": [
       "<div>\n",
       "<style scoped>\n",
       "    .dataframe tbody tr th:only-of-type {\n",
       "        vertical-align: middle;\n",
       "    }\n",
       "\n",
       "    .dataframe tbody tr th {\n",
       "        vertical-align: top;\n",
       "    }\n",
       "\n",
       "    .dataframe thead th {\n",
       "        text-align: right;\n",
       "    }\n",
       "</style>\n",
       "<table border=\"1\" class=\"dataframe\">\n",
       "  <thead>\n",
       "    <tr style=\"text-align: right;\">\n",
       "      <th></th>\n",
       "      <th>Ticker Symbol</th>\n",
       "      <th>Period Ending</th>\n",
       "      <th>Accounts Payable</th>\n",
       "      <th>Accounts Receivable</th>\n",
       "      <th>Add'l income/expense items</th>\n",
       "      <th>After Tax ROE</th>\n",
       "      <th>Capital Expenditures</th>\n",
       "      <th>Capital Surplus</th>\n",
       "      <th>Cash Ratio</th>\n",
       "      <th>Cash and Cash Equivalents</th>\n",
       "      <th>...</th>\n",
       "      <th>Total Current Assets</th>\n",
       "      <th>Total Current Liabilities</th>\n",
       "      <th>Total Equity</th>\n",
       "      <th>Total Liabilities</th>\n",
       "      <th>Total Liabilities &amp; Equity</th>\n",
       "      <th>Total Revenue</th>\n",
       "      <th>Treasury Stock</th>\n",
       "      <th>For Year</th>\n",
       "      <th>Earnings Per Share</th>\n",
       "      <th>Estimated Shares Outstanding</th>\n",
       "    </tr>\n",
       "  </thead>\n",
       "  <tbody>\n",
       "    <tr>\n",
       "      <th>0</th>\n",
       "      <td>AAL</td>\n",
       "      <td>2012-12-31</td>\n",
       "      <td>3.068000e+09</td>\n",
       "      <td>-222000000.0</td>\n",
       "      <td>-1.961000e+09</td>\n",
       "      <td>23.0</td>\n",
       "      <td>-1.888000e+09</td>\n",
       "      <td>4.695000e+09</td>\n",
       "      <td>53.0</td>\n",
       "      <td>1.330000e+09</td>\n",
       "      <td>...</td>\n",
       "      <td>7.072000e+09</td>\n",
       "      <td>9.011000e+09</td>\n",
       "      <td>-7.987000e+09</td>\n",
       "      <td>2.489100e+10</td>\n",
       "      <td>1.690400e+10</td>\n",
       "      <td>2.485500e+10</td>\n",
       "      <td>-367000000.0</td>\n",
       "      <td>2012.0</td>\n",
       "      <td>-5.60</td>\n",
       "      <td>3.350000e+08</td>\n",
       "    </tr>\n",
       "    <tr>\n",
       "      <th>1</th>\n",
       "      <td>AAL</td>\n",
       "      <td>2013-12-31</td>\n",
       "      <td>4.975000e+09</td>\n",
       "      <td>-93000000.0</td>\n",
       "      <td>-2.723000e+09</td>\n",
       "      <td>67.0</td>\n",
       "      <td>-3.114000e+09</td>\n",
       "      <td>1.059200e+10</td>\n",
       "      <td>75.0</td>\n",
       "      <td>2.175000e+09</td>\n",
       "      <td>...</td>\n",
       "      <td>1.432300e+10</td>\n",
       "      <td>1.380600e+10</td>\n",
       "      <td>-2.731000e+09</td>\n",
       "      <td>4.500900e+10</td>\n",
       "      <td>4.227800e+10</td>\n",
       "      <td>2.674300e+10</td>\n",
       "      <td>0.0</td>\n",
       "      <td>2013.0</td>\n",
       "      <td>-11.25</td>\n",
       "      <td>1.630222e+08</td>\n",
       "    </tr>\n",
       "    <tr>\n",
       "      <th>2</th>\n",
       "      <td>AAL</td>\n",
       "      <td>2014-12-31</td>\n",
       "      <td>4.668000e+09</td>\n",
       "      <td>-160000000.0</td>\n",
       "      <td>-1.500000e+08</td>\n",
       "      <td>143.0</td>\n",
       "      <td>-5.311000e+09</td>\n",
       "      <td>1.513500e+10</td>\n",
       "      <td>60.0</td>\n",
       "      <td>1.768000e+09</td>\n",
       "      <td>...</td>\n",
       "      <td>1.175000e+10</td>\n",
       "      <td>1.340400e+10</td>\n",
       "      <td>2.021000e+09</td>\n",
       "      <td>4.120400e+10</td>\n",
       "      <td>4.322500e+10</td>\n",
       "      <td>4.265000e+10</td>\n",
       "      <td>0.0</td>\n",
       "      <td>2014.0</td>\n",
       "      <td>4.02</td>\n",
       "      <td>7.169154e+08</td>\n",
       "    </tr>\n",
       "    <tr>\n",
       "      <th>3</th>\n",
       "      <td>AAL</td>\n",
       "      <td>2015-12-31</td>\n",
       "      <td>5.102000e+09</td>\n",
       "      <td>352000000.0</td>\n",
       "      <td>-7.080000e+08</td>\n",
       "      <td>135.0</td>\n",
       "      <td>-6.151000e+09</td>\n",
       "      <td>1.159100e+10</td>\n",
       "      <td>51.0</td>\n",
       "      <td>1.085000e+09</td>\n",
       "      <td>...</td>\n",
       "      <td>9.985000e+09</td>\n",
       "      <td>1.360500e+10</td>\n",
       "      <td>5.635000e+09</td>\n",
       "      <td>4.278000e+10</td>\n",
       "      <td>4.841500e+10</td>\n",
       "      <td>4.099000e+10</td>\n",
       "      <td>0.0</td>\n",
       "      <td>2015.0</td>\n",
       "      <td>11.39</td>\n",
       "      <td>6.681299e+08</td>\n",
       "    </tr>\n",
       "    <tr>\n",
       "      <th>4</th>\n",
       "      <td>AAP</td>\n",
       "      <td>2012-12-29</td>\n",
       "      <td>2.409453e+09</td>\n",
       "      <td>-89482000.0</td>\n",
       "      <td>6.000000e+05</td>\n",
       "      <td>32.0</td>\n",
       "      <td>-2.711820e+08</td>\n",
       "      <td>5.202150e+08</td>\n",
       "      <td>23.0</td>\n",
       "      <td>5.981110e+08</td>\n",
       "      <td>...</td>\n",
       "      <td>3.184200e+09</td>\n",
       "      <td>2.559638e+09</td>\n",
       "      <td>1.210694e+09</td>\n",
       "      <td>3.403120e+09</td>\n",
       "      <td>4.613814e+09</td>\n",
       "      <td>6.205003e+09</td>\n",
       "      <td>-27095000.0</td>\n",
       "      <td>2012.0</td>\n",
       "      <td>5.29</td>\n",
       "      <td>7.328355e+07</td>\n",
       "    </tr>\n",
       "  </tbody>\n",
       "</table>\n",
       "<p>5 rows × 78 columns</p>\n",
       "</div>"
      ],
      "text/plain": [
       "  Ticker Symbol Period Ending  Accounts Payable  Accounts Receivable  \\\n",
       "0           AAL    2012-12-31      3.068000e+09         -222000000.0   \n",
       "1           AAL    2013-12-31      4.975000e+09          -93000000.0   \n",
       "2           AAL    2014-12-31      4.668000e+09         -160000000.0   \n",
       "3           AAL    2015-12-31      5.102000e+09          352000000.0   \n",
       "4           AAP    2012-12-29      2.409453e+09          -89482000.0   \n",
       "\n",
       "   Add'l income/expense items  After Tax ROE  Capital Expenditures  \\\n",
       "0               -1.961000e+09           23.0         -1.888000e+09   \n",
       "1               -2.723000e+09           67.0         -3.114000e+09   \n",
       "2               -1.500000e+08          143.0         -5.311000e+09   \n",
       "3               -7.080000e+08          135.0         -6.151000e+09   \n",
       "4                6.000000e+05           32.0         -2.711820e+08   \n",
       "\n",
       "   Capital Surplus  Cash Ratio  Cash and Cash Equivalents  ...  \\\n",
       "0     4.695000e+09        53.0               1.330000e+09  ...   \n",
       "1     1.059200e+10        75.0               2.175000e+09  ...   \n",
       "2     1.513500e+10        60.0               1.768000e+09  ...   \n",
       "3     1.159100e+10        51.0               1.085000e+09  ...   \n",
       "4     5.202150e+08        23.0               5.981110e+08  ...   \n",
       "\n",
       "   Total Current Assets  Total Current Liabilities  Total Equity  \\\n",
       "0          7.072000e+09               9.011000e+09 -7.987000e+09   \n",
       "1          1.432300e+10               1.380600e+10 -2.731000e+09   \n",
       "2          1.175000e+10               1.340400e+10  2.021000e+09   \n",
       "3          9.985000e+09               1.360500e+10  5.635000e+09   \n",
       "4          3.184200e+09               2.559638e+09  1.210694e+09   \n",
       "\n",
       "   Total Liabilities  Total Liabilities & Equity  Total Revenue  \\\n",
       "0       2.489100e+10                1.690400e+10   2.485500e+10   \n",
       "1       4.500900e+10                4.227800e+10   2.674300e+10   \n",
       "2       4.120400e+10                4.322500e+10   4.265000e+10   \n",
       "3       4.278000e+10                4.841500e+10   4.099000e+10   \n",
       "4       3.403120e+09                4.613814e+09   6.205003e+09   \n",
       "\n",
       "   Treasury Stock  For Year  Earnings Per Share  Estimated Shares Outstanding  \n",
       "0    -367000000.0    2012.0               -5.60                  3.350000e+08  \n",
       "1             0.0    2013.0              -11.25                  1.630222e+08  \n",
       "2             0.0    2014.0                4.02                  7.169154e+08  \n",
       "3             0.0    2015.0               11.39                  6.681299e+08  \n",
       "4     -27095000.0    2012.0                5.29                  7.328355e+07  \n",
       "\n",
       "[5 rows x 78 columns]"
      ]
     },
     "metadata": {},
     "output_type": "display_data"
    },
    {
     "name": "stdout",
     "output_type": "stream",
     "text": [
      "In  fundamentals  called^^^^Method: .head()\n"
     ]
    },
    {
     "data": {
      "text/plain": [
       "Ticker Symbol                           object\n",
       "Period Ending                   datetime64[ns]\n",
       "Accounts Payable                       float64\n",
       "Accounts Receivable                    float64\n",
       "Add'l income/expense items             float64\n",
       "                                     ...      \n",
       "Total Revenue                          float64\n",
       "Treasury Stock                         float64\n",
       "For Year                               float64\n",
       "Earnings Per Share                     float64\n",
       "Estimated Shares Outstanding           float64\n",
       "Length: 78, dtype: object"
      ]
     },
     "metadata": {},
     "output_type": "display_data"
    },
    {
     "name": "stdout",
     "output_type": "stream",
     "text": [
      "In  fundamentals  called^^^^Method: .dtypes\n"
     ]
    },
    {
     "data": {
      "text/html": [
       "<div>\n",
       "<style scoped>\n",
       "    .dataframe tbody tr th:only-of-type {\n",
       "        vertical-align: middle;\n",
       "    }\n",
       "\n",
       "    .dataframe tbody tr th {\n",
       "        vertical-align: top;\n",
       "    }\n",
       "\n",
       "    .dataframe thead th {\n",
       "        text-align: right;\n",
       "    }\n",
       "</style>\n",
       "<table border=\"1\" class=\"dataframe\">\n",
       "  <thead>\n",
       "    <tr style=\"text-align: right;\">\n",
       "      <th></th>\n",
       "      <th>Accounts Payable</th>\n",
       "      <th>Accounts Receivable</th>\n",
       "      <th>Add'l income/expense items</th>\n",
       "      <th>After Tax ROE</th>\n",
       "      <th>Capital Expenditures</th>\n",
       "      <th>Capital Surplus</th>\n",
       "      <th>Cash Ratio</th>\n",
       "      <th>Cash and Cash Equivalents</th>\n",
       "      <th>Changes in Inventories</th>\n",
       "      <th>Common Stocks</th>\n",
       "      <th>...</th>\n",
       "      <th>Total Current Assets</th>\n",
       "      <th>Total Current Liabilities</th>\n",
       "      <th>Total Equity</th>\n",
       "      <th>Total Liabilities</th>\n",
       "      <th>Total Liabilities &amp; Equity</th>\n",
       "      <th>Total Revenue</th>\n",
       "      <th>Treasury Stock</th>\n",
       "      <th>For Year</th>\n",
       "      <th>Earnings Per Share</th>\n",
       "      <th>Estimated Shares Outstanding</th>\n",
       "    </tr>\n",
       "  </thead>\n",
       "  <tbody>\n",
       "    <tr>\n",
       "      <th>count</th>\n",
       "      <td>1.781000e+03</td>\n",
       "      <td>1.781000e+03</td>\n",
       "      <td>1.781000e+03</td>\n",
       "      <td>1781.000000</td>\n",
       "      <td>1.781000e+03</td>\n",
       "      <td>1.781000e+03</td>\n",
       "      <td>1482.000000</td>\n",
       "      <td>1.781000e+03</td>\n",
       "      <td>1.781000e+03</td>\n",
       "      <td>1.781000e+03</td>\n",
       "      <td>...</td>\n",
       "      <td>1.781000e+03</td>\n",
       "      <td>1.781000e+03</td>\n",
       "      <td>1.781000e+03</td>\n",
       "      <td>1.781000e+03</td>\n",
       "      <td>1.781000e+03</td>\n",
       "      <td>1.781000e+03</td>\n",
       "      <td>1.781000e+03</td>\n",
       "      <td>1608.000000</td>\n",
       "      <td>1562.000000</td>\n",
       "      <td>1.562000e+03</td>\n",
       "    </tr>\n",
       "    <tr>\n",
       "      <th>mean</th>\n",
       "      <td>4.673418e+09</td>\n",
       "      <td>-6.353484e+07</td>\n",
       "      <td>6.908940e+07</td>\n",
       "      <td>43.601348</td>\n",
       "      <td>-1.251925e+09</td>\n",
       "      <td>5.351784e+09</td>\n",
       "      <td>74.457490</td>\n",
       "      <td>8.521399e+09</td>\n",
       "      <td>-6.787749e+07</td>\n",
       "      <td>1.608543e+09</td>\n",
       "      <td>...</td>\n",
       "      <td>6.726349e+09</td>\n",
       "      <td>4.699919e+09</td>\n",
       "      <td>1.188846e+10</td>\n",
       "      <td>4.380420e+10</td>\n",
       "      <td>5.569266e+10</td>\n",
       "      <td>2.029154e+10</td>\n",
       "      <td>-3.951522e+09</td>\n",
       "      <td>2013.305348</td>\n",
       "      <td>3.353707</td>\n",
       "      <td>6.024244e+08</td>\n",
       "    </tr>\n",
       "    <tr>\n",
       "      <th>std</th>\n",
       "      <td>1.406047e+10</td>\n",
       "      <td>7.562794e+08</td>\n",
       "      <td>6.848143e+08</td>\n",
       "      <td>233.924028</td>\n",
       "      <td>2.979963e+09</td>\n",
       "      <td>1.133977e+10</td>\n",
       "      <td>102.298374</td>\n",
       "      <td>5.432105e+10</td>\n",
       "      <td>3.903369e+08</td>\n",
       "      <td>9.177636e+09</td>\n",
       "      <td>...</td>\n",
       "      <td>1.344800e+10</td>\n",
       "      <td>9.538832e+09</td>\n",
       "      <td>2.584429e+10</td>\n",
       "      <td>1.817039e+11</td>\n",
       "      <td>2.033612e+11</td>\n",
       "      <td>4.095355e+10</td>\n",
       "      <td>1.407047e+10</td>\n",
       "      <td>19.953135</td>\n",
       "      <td>4.695896</td>\n",
       "      <td>1.142585e+09</td>\n",
       "    </tr>\n",
       "    <tr>\n",
       "      <th>min</th>\n",
       "      <td>0.000000e+00</td>\n",
       "      <td>-6.452000e+09</td>\n",
       "      <td>-6.768000e+09</td>\n",
       "      <td>0.000000</td>\n",
       "      <td>-3.798500e+10</td>\n",
       "      <td>-7.215000e+08</td>\n",
       "      <td>0.000000</td>\n",
       "      <td>2.100000e+04</td>\n",
       "      <td>-5.562000e+09</td>\n",
       "      <td>0.000000e+00</td>\n",
       "      <td>...</td>\n",
       "      <td>0.000000e+00</td>\n",
       "      <td>0.000000e+00</td>\n",
       "      <td>-1.324400e+10</td>\n",
       "      <td>2.577000e+06</td>\n",
       "      <td>2.705000e+06</td>\n",
       "      <td>1.514000e+06</td>\n",
       "      <td>-2.297340e+11</td>\n",
       "      <td>1215.000000</td>\n",
       "      <td>-61.200000</td>\n",
       "      <td>-1.513945e+09</td>\n",
       "    </tr>\n",
       "    <tr>\n",
       "      <th>25%</th>\n",
       "      <td>5.160000e+08</td>\n",
       "      <td>-1.040000e+08</td>\n",
       "      <td>-2.638000e+06</td>\n",
       "      <td>10.000000</td>\n",
       "      <td>-1.151200e+09</td>\n",
       "      <td>4.791000e+08</td>\n",
       "      <td>17.000000</td>\n",
       "      <td>3.088000e+08</td>\n",
       "      <td>-5.400000e+07</td>\n",
       "      <td>1.628000e+06</td>\n",
       "      <td>...</td>\n",
       "      <td>1.044178e+09</td>\n",
       "      <td>5.640760e+08</td>\n",
       "      <td>2.201492e+09</td>\n",
       "      <td>3.843300e+09</td>\n",
       "      <td>6.552689e+09</td>\n",
       "      <td>3.714000e+09</td>\n",
       "      <td>-3.040895e+09</td>\n",
       "      <td>2013.000000</td>\n",
       "      <td>1.590000</td>\n",
       "      <td>1.493318e+08</td>\n",
       "    </tr>\n",
       "    <tr>\n",
       "      <th>50%</th>\n",
       "      <td>1.334000e+09</td>\n",
       "      <td>-1.830000e+07</td>\n",
       "      <td>2.000000e+06</td>\n",
       "      <td>16.000000</td>\n",
       "      <td>-3.580000e+08</td>\n",
       "      <td>1.997080e+09</td>\n",
       "      <td>41.000000</td>\n",
       "      <td>8.625900e+08</td>\n",
       "      <td>0.000000e+00</td>\n",
       "      <td>7.725000e+06</td>\n",
       "      <td>...</td>\n",
       "      <td>2.747200e+09</td>\n",
       "      <td>1.701500e+09</td>\n",
       "      <td>4.983000e+09</td>\n",
       "      <td>9.141000e+09</td>\n",
       "      <td>1.517000e+10</td>\n",
       "      <td>8.023200e+09</td>\n",
       "      <td>-3.068350e+08</td>\n",
       "      <td>2014.000000</td>\n",
       "      <td>2.810000</td>\n",
       "      <td>2.929409e+08</td>\n",
       "    </tr>\n",
       "    <tr>\n",
       "      <th>75%</th>\n",
       "      <td>3.246000e+09</td>\n",
       "      <td>7.816000e+06</td>\n",
       "      <td>3.359200e+07</td>\n",
       "      <td>26.000000</td>\n",
       "      <td>-1.291000e+08</td>\n",
       "      <td>5.735000e+09</td>\n",
       "      <td>90.000000</td>\n",
       "      <td>2.310000e+09</td>\n",
       "      <td>0.000000e+00</td>\n",
       "      <td>2.970000e+08</td>\n",
       "      <td>...</td>\n",
       "      <td>6.162000e+09</td>\n",
       "      <td>4.381000e+09</td>\n",
       "      <td>1.080900e+10</td>\n",
       "      <td>2.389700e+10</td>\n",
       "      <td>3.599710e+10</td>\n",
       "      <td>1.748600e+10</td>\n",
       "      <td>0.000000e+00</td>\n",
       "      <td>2015.000000</td>\n",
       "      <td>4.590000</td>\n",
       "      <td>5.492163e+08</td>\n",
       "    </tr>\n",
       "    <tr>\n",
       "      <th>max</th>\n",
       "      <td>2.069390e+11</td>\n",
       "      <td>2.266400e+10</td>\n",
       "      <td>1.416200e+10</td>\n",
       "      <td>5789.000000</td>\n",
       "      <td>5.000000e+06</td>\n",
       "      <td>1.082880e+11</td>\n",
       "      <td>1041.000000</td>\n",
       "      <td>7.281110e+11</td>\n",
       "      <td>3.755000e+09</td>\n",
       "      <td>1.581420e+11</td>\n",
       "      <td>...</td>\n",
       "      <td>1.396600e+11</td>\n",
       "      <td>9.028100e+10</td>\n",
       "      <td>2.562050e+11</td>\n",
       "      <td>2.340547e+12</td>\n",
       "      <td>2.572274e+12</td>\n",
       "      <td>4.856510e+11</td>\n",
       "      <td>0.000000e+00</td>\n",
       "      <td>2016.000000</td>\n",
       "      <td>50.090000</td>\n",
       "      <td>1.610769e+10</td>\n",
       "    </tr>\n",
       "  </tbody>\n",
       "</table>\n",
       "<p>8 rows × 76 columns</p>\n",
       "</div>"
      ],
      "text/plain": [
       "       Accounts Payable  Accounts Receivable  Add'l income/expense items  \\\n",
       "count      1.781000e+03         1.781000e+03                1.781000e+03   \n",
       "mean       4.673418e+09        -6.353484e+07                6.908940e+07   \n",
       "std        1.406047e+10         7.562794e+08                6.848143e+08   \n",
       "min        0.000000e+00        -6.452000e+09               -6.768000e+09   \n",
       "25%        5.160000e+08        -1.040000e+08               -2.638000e+06   \n",
       "50%        1.334000e+09        -1.830000e+07                2.000000e+06   \n",
       "75%        3.246000e+09         7.816000e+06                3.359200e+07   \n",
       "max        2.069390e+11         2.266400e+10                1.416200e+10   \n",
       "\n",
       "       After Tax ROE  Capital Expenditures  Capital Surplus   Cash Ratio  \\\n",
       "count    1781.000000          1.781000e+03     1.781000e+03  1482.000000   \n",
       "mean       43.601348         -1.251925e+09     5.351784e+09    74.457490   \n",
       "std       233.924028          2.979963e+09     1.133977e+10   102.298374   \n",
       "min         0.000000         -3.798500e+10    -7.215000e+08     0.000000   \n",
       "25%        10.000000         -1.151200e+09     4.791000e+08    17.000000   \n",
       "50%        16.000000         -3.580000e+08     1.997080e+09    41.000000   \n",
       "75%        26.000000         -1.291000e+08     5.735000e+09    90.000000   \n",
       "max      5789.000000          5.000000e+06     1.082880e+11  1041.000000   \n",
       "\n",
       "       Cash and Cash Equivalents  Changes in Inventories  Common Stocks  ...  \\\n",
       "count               1.781000e+03            1.781000e+03   1.781000e+03  ...   \n",
       "mean                8.521399e+09           -6.787749e+07   1.608543e+09  ...   \n",
       "std                 5.432105e+10            3.903369e+08   9.177636e+09  ...   \n",
       "min                 2.100000e+04           -5.562000e+09   0.000000e+00  ...   \n",
       "25%                 3.088000e+08           -5.400000e+07   1.628000e+06  ...   \n",
       "50%                 8.625900e+08            0.000000e+00   7.725000e+06  ...   \n",
       "75%                 2.310000e+09            0.000000e+00   2.970000e+08  ...   \n",
       "max                 7.281110e+11            3.755000e+09   1.581420e+11  ...   \n",
       "\n",
       "       Total Current Assets  Total Current Liabilities  Total Equity  \\\n",
       "count          1.781000e+03               1.781000e+03  1.781000e+03   \n",
       "mean           6.726349e+09               4.699919e+09  1.188846e+10   \n",
       "std            1.344800e+10               9.538832e+09  2.584429e+10   \n",
       "min            0.000000e+00               0.000000e+00 -1.324400e+10   \n",
       "25%            1.044178e+09               5.640760e+08  2.201492e+09   \n",
       "50%            2.747200e+09               1.701500e+09  4.983000e+09   \n",
       "75%            6.162000e+09               4.381000e+09  1.080900e+10   \n",
       "max            1.396600e+11               9.028100e+10  2.562050e+11   \n",
       "\n",
       "       Total Liabilities  Total Liabilities & Equity  Total Revenue  \\\n",
       "count       1.781000e+03                1.781000e+03   1.781000e+03   \n",
       "mean        4.380420e+10                5.569266e+10   2.029154e+10   \n",
       "std         1.817039e+11                2.033612e+11   4.095355e+10   \n",
       "min         2.577000e+06                2.705000e+06   1.514000e+06   \n",
       "25%         3.843300e+09                6.552689e+09   3.714000e+09   \n",
       "50%         9.141000e+09                1.517000e+10   8.023200e+09   \n",
       "75%         2.389700e+10                3.599710e+10   1.748600e+10   \n",
       "max         2.340547e+12                2.572274e+12   4.856510e+11   \n",
       "\n",
       "       Treasury Stock     For Year  Earnings Per Share  \\\n",
       "count    1.781000e+03  1608.000000         1562.000000   \n",
       "mean    -3.951522e+09  2013.305348            3.353707   \n",
       "std      1.407047e+10    19.953135            4.695896   \n",
       "min     -2.297340e+11  1215.000000          -61.200000   \n",
       "25%     -3.040895e+09  2013.000000            1.590000   \n",
       "50%     -3.068350e+08  2014.000000            2.810000   \n",
       "75%      0.000000e+00  2015.000000            4.590000   \n",
       "max      0.000000e+00  2016.000000           50.090000   \n",
       "\n",
       "       Estimated Shares Outstanding  \n",
       "count                  1.562000e+03  \n",
       "mean                   6.024244e+08  \n",
       "std                    1.142585e+09  \n",
       "min                   -1.513945e+09  \n",
       "25%                    1.493318e+08  \n",
       "50%                    2.929409e+08  \n",
       "75%                    5.492163e+08  \n",
       "max                    1.610769e+10  \n",
       "\n",
       "[8 rows x 76 columns]"
      ]
     },
     "metadata": {},
     "output_type": "display_data"
    },
    {
     "name": "stdout",
     "output_type": "stream",
     "text": [
      "In  fundamentals  called^^^^Method: .describe()\n"
     ]
    },
    {
     "data": {
      "text/plain": [
       "(1781, 78)"
      ]
     },
     "metadata": {},
     "output_type": "display_data"
    },
    {
     "name": "stdout",
     "output_type": "stream",
     "text": [
      "In  fundamentals  called^^^^Method: .shape\n",
      "_________________________________________________________________________________________________________\n",
      "DataFrame Name:  securities\n",
      "_________________________________________________________________________________________________________\n",
      "_________________________________________________________________________________________________________\n",
      "_________________________________________________________________________________________________________\n"
     ]
    },
    {
     "data": {
      "text/plain": [
       "Index(['Ticker symbol', 'Security', 'SEC filings', 'GICS Sector',\n",
       "       'GICS Sub Industry', 'Address of Headquarters', 'Date first added',\n",
       "       'CIK'],\n",
       "      dtype='object')"
      ]
     },
     "metadata": {},
     "output_type": "display_data"
    },
    {
     "name": "stdout",
     "output_type": "stream",
     "text": [
      "In  securities  called^^^^Method: .columns\n"
     ]
    },
    {
     "data": {
      "text/html": [
       "<div>\n",
       "<style scoped>\n",
       "    .dataframe tbody tr th:only-of-type {\n",
       "        vertical-align: middle;\n",
       "    }\n",
       "\n",
       "    .dataframe tbody tr th {\n",
       "        vertical-align: top;\n",
       "    }\n",
       "\n",
       "    .dataframe thead th {\n",
       "        text-align: right;\n",
       "    }\n",
       "</style>\n",
       "<table border=\"1\" class=\"dataframe\">\n",
       "  <thead>\n",
       "    <tr style=\"text-align: right;\">\n",
       "      <th></th>\n",
       "      <th>Ticker symbol</th>\n",
       "      <th>Security</th>\n",
       "      <th>SEC filings</th>\n",
       "      <th>GICS Sector</th>\n",
       "      <th>GICS Sub Industry</th>\n",
       "      <th>Address of Headquarters</th>\n",
       "      <th>Date first added</th>\n",
       "      <th>CIK</th>\n",
       "    </tr>\n",
       "  </thead>\n",
       "  <tbody>\n",
       "    <tr>\n",
       "      <th>0</th>\n",
       "      <td>MMM</td>\n",
       "      <td>3M Company</td>\n",
       "      <td>reports</td>\n",
       "      <td>Industrials</td>\n",
       "      <td>Industrial Conglomerates</td>\n",
       "      <td>St. Paul, Minnesota</td>\n",
       "      <td>NaT</td>\n",
       "      <td>66740</td>\n",
       "    </tr>\n",
       "    <tr>\n",
       "      <th>1</th>\n",
       "      <td>ABT</td>\n",
       "      <td>Abbott Laboratories</td>\n",
       "      <td>reports</td>\n",
       "      <td>Health Care</td>\n",
       "      <td>Health Care Equipment</td>\n",
       "      <td>North Chicago, Illinois</td>\n",
       "      <td>1964-03-31</td>\n",
       "      <td>1800</td>\n",
       "    </tr>\n",
       "    <tr>\n",
       "      <th>2</th>\n",
       "      <td>ABBV</td>\n",
       "      <td>AbbVie</td>\n",
       "      <td>reports</td>\n",
       "      <td>Health Care</td>\n",
       "      <td>Pharmaceuticals</td>\n",
       "      <td>North Chicago, Illinois</td>\n",
       "      <td>2012-12-31</td>\n",
       "      <td>1551152</td>\n",
       "    </tr>\n",
       "    <tr>\n",
       "      <th>3</th>\n",
       "      <td>ACN</td>\n",
       "      <td>Accenture plc</td>\n",
       "      <td>reports</td>\n",
       "      <td>Information Technology</td>\n",
       "      <td>IT Consulting &amp; Other Services</td>\n",
       "      <td>Dublin, Ireland</td>\n",
       "      <td>2011-07-06</td>\n",
       "      <td>1467373</td>\n",
       "    </tr>\n",
       "    <tr>\n",
       "      <th>4</th>\n",
       "      <td>ATVI</td>\n",
       "      <td>Activision Blizzard</td>\n",
       "      <td>reports</td>\n",
       "      <td>Information Technology</td>\n",
       "      <td>Home Entertainment Software</td>\n",
       "      <td>Santa Monica, California</td>\n",
       "      <td>2015-08-31</td>\n",
       "      <td>718877</td>\n",
       "    </tr>\n",
       "  </tbody>\n",
       "</table>\n",
       "</div>"
      ],
      "text/plain": [
       "  Ticker symbol             Security SEC filings             GICS Sector  \\\n",
       "0           MMM           3M Company     reports             Industrials   \n",
       "1           ABT  Abbott Laboratories     reports             Health Care   \n",
       "2          ABBV               AbbVie     reports             Health Care   \n",
       "3           ACN        Accenture plc     reports  Information Technology   \n",
       "4          ATVI  Activision Blizzard     reports  Information Technology   \n",
       "\n",
       "                GICS Sub Industry   Address of Headquarters Date first added  \\\n",
       "0        Industrial Conglomerates       St. Paul, Minnesota              NaT   \n",
       "1           Health Care Equipment   North Chicago, Illinois       1964-03-31   \n",
       "2                 Pharmaceuticals   North Chicago, Illinois       2012-12-31   \n",
       "3  IT Consulting & Other Services           Dublin, Ireland       2011-07-06   \n",
       "4     Home Entertainment Software  Santa Monica, California       2015-08-31   \n",
       "\n",
       "       CIK  \n",
       "0    66740  \n",
       "1     1800  \n",
       "2  1551152  \n",
       "3  1467373  \n",
       "4   718877  "
      ]
     },
     "metadata": {},
     "output_type": "display_data"
    },
    {
     "name": "stdout",
     "output_type": "stream",
     "text": [
      "In  securities  called^^^^Method: .head()\n"
     ]
    },
    {
     "data": {
      "text/plain": [
       "Ticker symbol                      object\n",
       "Security                           object\n",
       "SEC filings                        object\n",
       "GICS Sector                        object\n",
       "GICS Sub Industry                  object\n",
       "Address of Headquarters            object\n",
       "Date first added           datetime64[ns]\n",
       "CIK                                 int64\n",
       "dtype: object"
      ]
     },
     "metadata": {},
     "output_type": "display_data"
    },
    {
     "name": "stdout",
     "output_type": "stream",
     "text": [
      "In  securities  called^^^^Method: .dtypes\n"
     ]
    },
    {
     "data": {
      "text/html": [
       "<div>\n",
       "<style scoped>\n",
       "    .dataframe tbody tr th:only-of-type {\n",
       "        vertical-align: middle;\n",
       "    }\n",
       "\n",
       "    .dataframe tbody tr th {\n",
       "        vertical-align: top;\n",
       "    }\n",
       "\n",
       "    .dataframe thead th {\n",
       "        text-align: right;\n",
       "    }\n",
       "</style>\n",
       "<table border=\"1\" class=\"dataframe\">\n",
       "  <thead>\n",
       "    <tr style=\"text-align: right;\">\n",
       "      <th></th>\n",
       "      <th>CIK</th>\n",
       "    </tr>\n",
       "  </thead>\n",
       "  <tbody>\n",
       "    <tr>\n",
       "      <th>count</th>\n",
       "      <td>5.050000e+02</td>\n",
       "    </tr>\n",
       "    <tr>\n",
       "      <th>mean</th>\n",
       "      <td>7.074490e+05</td>\n",
       "    </tr>\n",
       "    <tr>\n",
       "      <th>std</th>\n",
       "      <td>5.144375e+05</td>\n",
       "    </tr>\n",
       "    <tr>\n",
       "      <th>min</th>\n",
       "      <td>1.800000e+03</td>\n",
       "    </tr>\n",
       "    <tr>\n",
       "      <th>25%</th>\n",
       "      <td>8.631200e+04</td>\n",
       "    </tr>\n",
       "    <tr>\n",
       "      <th>50%</th>\n",
       "      <td>8.310010e+05</td>\n",
       "    </tr>\n",
       "    <tr>\n",
       "      <th>75%</th>\n",
       "      <td>1.075531e+06</td>\n",
       "    </tr>\n",
       "    <tr>\n",
       "      <th>max</th>\n",
       "      <td>1.659166e+06</td>\n",
       "    </tr>\n",
       "  </tbody>\n",
       "</table>\n",
       "</div>"
      ],
      "text/plain": [
       "                CIK\n",
       "count  5.050000e+02\n",
       "mean   7.074490e+05\n",
       "std    5.144375e+05\n",
       "min    1.800000e+03\n",
       "25%    8.631200e+04\n",
       "50%    8.310010e+05\n",
       "75%    1.075531e+06\n",
       "max    1.659166e+06"
      ]
     },
     "metadata": {},
     "output_type": "display_data"
    },
    {
     "name": "stdout",
     "output_type": "stream",
     "text": [
      "In  securities  called^^^^Method: .describe()\n"
     ]
    },
    {
     "data": {
      "text/plain": [
       "(505, 8)"
      ]
     },
     "metadata": {},
     "output_type": "display_data"
    },
    {
     "name": "stdout",
     "output_type": "stream",
     "text": [
      "In  securities  called^^^^Method: .shape\n"
     ]
    }
   ],
   "source": [
    "# give dataframes a referencable name for naming later\n",
    "DFs = {'prices':prices, 'prices_split':prices_split, 'fundamentals':fundamentals, 'securities':securities}\n",
    "\n",
    "# methods to call on DFs\n",
    "funcs = ['columns','head', 'dtypes','describe', 'shape']\n",
    "\n",
    "# \n",
    "explore_all(DFs, funcs)"
   ]
  },
  {
   "cell_type": "markdown",
   "metadata": {},
   "source": [
    "#### <span id='dtype'>Change dates columns to datetime dtypes</span>"
   ]
  },
  {
   "cell_type": "markdown",
   "metadata": {},
   "source": [
    "Some column dtypes reveal strange things. There are four columns to change from objects to datetimes. \n",
    "\n",
    "\n",
    "The 'date' columns in prices and prices_split as well as the 'Period Ending' column in fundamentals and the 'Date first added' column in securities should be converted from an object to a datetime. Let's do that next."
   ]
  },
  {
   "cell_type": "code",
   "execution_count": 6,
   "metadata": {},
   "outputs": [],
   "source": [
    "#function to change dtypes to datetime\n",
    "def to_dt(names):\n",
    "    changed_list = list()\n",
    "    for df in DFs.values():\n",
    "        for col in df:\n",
    "            if col in names and df[col].dtypes == 'object':\n",
    "                changed_list.append(col)\n",
    "                df[col] = pd.to_datetime(df[col])\n",
    "    print('Changed {} to datetime'.format(changed_list))"
   ]
  },
  {
   "cell_type": "code",
   "execution_count": 7,
   "metadata": {},
   "outputs": [
    {
     "name": "stdout",
     "output_type": "stream",
     "text": [
      "Changed ['date', 'date', 'Period Ending', 'Date first added'] to datetime\n"
     ]
    }
   ],
   "source": [
    "# all columns to change\n",
    "to_dt_list = ['date', 'Period Ending', 'Date first added']\n",
    "\n",
    "# execute change to datetime\n",
    "to_dt(to_dt_list)"
   ]
  },
  {
   "cell_type": "code",
   "execution_count": 8,
   "metadata": {
    "scrolled": true
   },
   "outputs": [
    {
     "name": "stdout",
     "output_type": "stream",
     "text": [
      "_________________________________________________________________________________________________________\n",
      "prices\n",
      "_________________________________________________________________________________________________________\n",
      "_________________________________________________________________________________________________________\n",
      "_________________________________________________________________________________________________________\n"
     ]
    },
    {
     "data": {
      "text/plain": [
       "date      datetime64[ns]\n",
       "symbol            object\n",
       "open             float64\n",
       "close            float64\n",
       "low              float64\n",
       "high             float64\n",
       "volume           float64\n",
       "dtype: object"
      ]
     },
     "metadata": {},
     "output_type": "display_data"
    },
    {
     "name": "stdout",
     "output_type": "stream",
     "text": [
      "^^^^Method: .dtypes\n",
      "_________________________________________________________________________________________________________\n",
      "prices_split\n",
      "_________________________________________________________________________________________________________\n",
      "_________________________________________________________________________________________________________\n",
      "_________________________________________________________________________________________________________\n"
     ]
    },
    {
     "data": {
      "text/plain": [
       "date      datetime64[ns]\n",
       "symbol            object\n",
       "open             float64\n",
       "close            float64\n",
       "low              float64\n",
       "high             float64\n",
       "volume           float64\n",
       "dtype: object"
      ]
     },
     "metadata": {},
     "output_type": "display_data"
    },
    {
     "name": "stdout",
     "output_type": "stream",
     "text": [
      "^^^^Method: .dtypes\n",
      "_________________________________________________________________________________________________________\n",
      "fundamentals\n",
      "_________________________________________________________________________________________________________\n",
      "_________________________________________________________________________________________________________\n",
      "_________________________________________________________________________________________________________\n"
     ]
    },
    {
     "data": {
      "text/plain": [
       "Ticker Symbol                           object\n",
       "Period Ending                   datetime64[ns]\n",
       "Accounts Payable                       float64\n",
       "Accounts Receivable                    float64\n",
       "Add'l income/expense items             float64\n",
       "                                     ...      \n",
       "Total Revenue                          float64\n",
       "Treasury Stock                         float64\n",
       "For Year                               float64\n",
       "Earnings Per Share                     float64\n",
       "Estimated Shares Outstanding           float64\n",
       "Length: 78, dtype: object"
      ]
     },
     "metadata": {},
     "output_type": "display_data"
    },
    {
     "name": "stdout",
     "output_type": "stream",
     "text": [
      "^^^^Method: .dtypes\n",
      "_________________________________________________________________________________________________________\n",
      "securities\n",
      "_________________________________________________________________________________________________________\n",
      "_________________________________________________________________________________________________________\n",
      "_________________________________________________________________________________________________________\n"
     ]
    },
    {
     "data": {
      "text/plain": [
       "Ticker symbol                      object\n",
       "Security                           object\n",
       "SEC filings                        object\n",
       "GICS Sector                        object\n",
       "GICS Sub Industry                  object\n",
       "Address of Headquarters            object\n",
       "Date first added           datetime64[ns]\n",
       "CIK                                 int64\n",
       "dtype: object"
      ]
     },
     "metadata": {},
     "output_type": "display_data"
    },
    {
     "name": "stdout",
     "output_type": "stream",
     "text": [
      "^^^^Method: .dtypes\n"
     ]
    }
   ],
   "source": [
    "# check for appropriate changes\n",
    "explore_all(DFs, ['dtypes'])"
   ]
  },
  {
   "cell_type": "markdown",
   "metadata": {},
   "source": [
    "#### <span id='symbols'>Explore stock symbols</span>"
   ]
  },
  {
   "cell_type": "code",
   "execution_count": 9,
   "metadata": {},
   "outputs": [
    {
     "data": {
      "text/plain": [
       "MET     1762\n",
       "HP      1762\n",
       "VIAB    1762\n",
       "MAT     1762\n",
       "SIG     1762\n",
       "        ... \n",
       "KHC      378\n",
       "HPE      304\n",
       "CSRA     284\n",
       "WLTW     251\n",
       "FTV      126\n",
       "Name: symbol, Length: 501, dtype: int64"
      ]
     },
     "execution_count": 9,
     "metadata": {},
     "output_type": "execute_result"
    }
   ],
   "source": [
    "# number of rows per symbol\n",
    "prices.symbol.value_counts()"
   ]
  },
  {
   "cell_type": "markdown",
   "metadata": {},
   "source": [
    "Not all the symbols have the same amount of rows. We also don't know if all the rows are sequential or the same magnitude of difference between prices. For example, we can see that the first five rows are one hour apart when calling .head() on prices."
   ]
  },
  {
   "cell_type": "code",
   "execution_count": 70,
   "metadata": {},
   "outputs": [
    {
     "data": {
      "text/html": [
       "<div>\n",
       "<style scoped>\n",
       "    .dataframe tbody tr th:only-of-type {\n",
       "        vertical-align: middle;\n",
       "    }\n",
       "\n",
       "    .dataframe tbody tr th {\n",
       "        vertical-align: top;\n",
       "    }\n",
       "\n",
       "    .dataframe thead th {\n",
       "        text-align: right;\n",
       "    }\n",
       "</style>\n",
       "<table border=\"1\" class=\"dataframe\">\n",
       "  <thead>\n",
       "    <tr style=\"text-align: right;\">\n",
       "      <th></th>\n",
       "      <th>date</th>\n",
       "      <th>symbol</th>\n",
       "      <th>open</th>\n",
       "      <th>close</th>\n",
       "      <th>low</th>\n",
       "      <th>high</th>\n",
       "      <th>volume</th>\n",
       "    </tr>\n",
       "  </thead>\n",
       "  <tbody>\n",
       "    <tr>\n",
       "      <th>0</th>\n",
       "      <td>2016-01-05</td>\n",
       "      <td>WLTW</td>\n",
       "      <td>123.430000</td>\n",
       "      <td>125.839996</td>\n",
       "      <td>122.309998</td>\n",
       "      <td>126.250000</td>\n",
       "      <td>2163600.0</td>\n",
       "    </tr>\n",
       "    <tr>\n",
       "      <th>1</th>\n",
       "      <td>2016-01-06</td>\n",
       "      <td>WLTW</td>\n",
       "      <td>125.239998</td>\n",
       "      <td>119.980003</td>\n",
       "      <td>119.940002</td>\n",
       "      <td>125.540001</td>\n",
       "      <td>2386400.0</td>\n",
       "    </tr>\n",
       "    <tr>\n",
       "      <th>2</th>\n",
       "      <td>2016-01-07</td>\n",
       "      <td>WLTW</td>\n",
       "      <td>116.379997</td>\n",
       "      <td>114.949997</td>\n",
       "      <td>114.930000</td>\n",
       "      <td>119.739998</td>\n",
       "      <td>2489500.0</td>\n",
       "    </tr>\n",
       "    <tr>\n",
       "      <th>3</th>\n",
       "      <td>2016-01-08</td>\n",
       "      <td>WLTW</td>\n",
       "      <td>115.480003</td>\n",
       "      <td>116.620003</td>\n",
       "      <td>113.500000</td>\n",
       "      <td>117.440002</td>\n",
       "      <td>2006300.0</td>\n",
       "    </tr>\n",
       "    <tr>\n",
       "      <th>4</th>\n",
       "      <td>2016-01-11</td>\n",
       "      <td>WLTW</td>\n",
       "      <td>117.010002</td>\n",
       "      <td>114.970001</td>\n",
       "      <td>114.089996</td>\n",
       "      <td>117.330002</td>\n",
       "      <td>1408600.0</td>\n",
       "    </tr>\n",
       "  </tbody>\n",
       "</table>\n",
       "</div>"
      ],
      "text/plain": [
       "        date symbol        open       close         low        high     volume\n",
       "0 2016-01-05   WLTW  123.430000  125.839996  122.309998  126.250000  2163600.0\n",
       "1 2016-01-06   WLTW  125.239998  119.980003  119.940002  125.540001  2386400.0\n",
       "2 2016-01-07   WLTW  116.379997  114.949997  114.930000  119.739998  2489500.0\n",
       "3 2016-01-08   WLTW  115.480003  116.620003  113.500000  117.440002  2006300.0\n",
       "4 2016-01-11   WLTW  117.010002  114.970001  114.089996  117.330002  1408600.0"
      ]
     },
     "execution_count": 70,
     "metadata": {},
     "output_type": "execute_result"
    }
   ],
   "source": [
    "prices.head()"
   ]
  },
  {
   "cell_type": "markdown",
   "metadata": {},
   "source": [
    "#### <span id='unique'>Check for unique symbols included in each DF</span>"
   ]
  },
  {
   "cell_type": "code",
   "execution_count": 10,
   "metadata": {},
   "outputs": [],
   "source": [
    "# write a function to check for unique symbols across Dateframes\n",
    "# inputs expected are unique symbols from each DF\n",
    "def check_unique(*args):\n",
    "    return set(args[0]).intersection(*args)"
   ]
  },
  {
   "cell_type": "code",
   "execution_count": 11,
   "metadata": {},
   "outputs": [],
   "source": [
    "# define the list of unique stock symbols found in each DF\n",
    "symbols = check_unique(securities['Ticker symbol'].unique(),prices.symbol.unique(), fundamentals['Ticker Symbol'].unique(),prices_split.symbol.unique())"
   ]
  },
  {
   "cell_type": "code",
   "execution_count": 12,
   "metadata": {},
   "outputs": [
    {
     "name": "stdout",
     "output_type": "stream",
     "text": [
      "prices symbols length:  501\n",
      "fundamentals symbols length:  448\n",
      "prices_split symbols length:  501\n",
      "securities symbols length:  505\n",
      "new symbols list length:  447\n"
     ]
    }
   ],
   "source": [
    "#visualize unique values counts in each DF\n",
    "print('prices symbols length: ', len(prices.symbol.unique()))\n",
    "print('fundamentals symbols length: ', len(fundamentals['Ticker Symbol'].unique()))\n",
    "print('prices_split symbols length: ', len(prices_split.symbol.unique()))\n",
    "print('securities symbols length: ', len(securities['Ticker symbol'].unique()))\n",
    "print('new symbols list length: ', len(symbols))"
   ]
  },
  {
   "cell_type": "markdown",
   "metadata": {},
   "source": [
    "#### <span id='null'>Check for Null Values</span>"
   ]
  },
  {
   "cell_type": "code",
   "execution_count": 13,
   "metadata": {},
   "outputs": [],
   "source": [
    "DFs = {'prices':prices, 'prices_split':prices_split, 'fundamentals':fundamentals, 'securities':securities}\n",
    "\n",
    "\n",
    "def check_nulls(dfs):\n",
    "    print('Any Null Values?')\n",
    "    for i, df in enumerate(dfs.values()):\n",
    "        for n in df:\n",
    "            if df[n].isna().any():\n",
    "                print(list(dfs.keys())[i],'-->',n,'-->',df[n].isna().any())"
   ]
  },
  {
   "cell_type": "code",
   "execution_count": 14,
   "metadata": {},
   "outputs": [
    {
     "data": {
      "image/png": "[encoded data removed]",
      "text/plain": [
       "<Figure size 1080x360 with 4 Axes>"
      ]
     },
     "metadata": {
      "needs_background": "light"
     },
     "output_type": "display_data"
    }
   ],
   "source": [
    "f, axs = plt.subplots(1, 2, figsize=(15,5), sharey=True)\n",
    "\n",
    "axs[0] = sns.heatmap(fundamentals.isna(), ax=axs[0])\n",
    "axs[0].set_title('Fundamentals DF Null Value Heatmap')\n",
    "axs[1] = sns.heatmap(securities.isna(), ax=axs[1])\n",
    "axs[1].set_title('Securities DF Null Value Heatmap')\n",
    "plt.show()"
   ]
  },
  {
   "cell_type": "code",
   "execution_count": 15,
   "metadata": {},
   "outputs": [
    {
     "name": "stdout",
     "output_type": "stream",
     "text": [
      "Any Null Values?\n",
      "fundamentals --> Cash Ratio --> True\n",
      "fundamentals --> Current Ratio --> True\n",
      "fundamentals --> Quick Ratio --> True\n",
      "fundamentals --> For Year --> True\n",
      "fundamentals --> Earnings Per Share --> True\n",
      "fundamentals --> Estimated Shares Outstanding --> True\n",
      "securities --> Date first added --> True\n"
     ]
    }
   ],
   "source": [
    "check_nulls(DFs)"
   ]
  },
  {
   "cell_type": "code",
   "execution_count": 16,
   "metadata": {},
   "outputs": [
    {
     "data": {
      "text/plain": [
       "39.20792079207921"
      ]
     },
     "execution_count": 16,
     "metadata": {},
     "output_type": "execute_result"
    }
   ],
   "source": [
    "percent_missing = securities['Date first added'].isnull().sum() * 100 / len(securities['Date first added'])\n",
    "percent_missing"
   ]
  },
  {
   "cell_type": "markdown",
   "metadata": {},
   "source": [
    "#### <span id='drop'>Drop Null Values</span>"
   ]
  },
  {
   "cell_type": "markdown",
   "metadata": {},
   "source": [
    "In this project, searching for the missing values is more than likely possible, however, due to time constraints on the project, I will drop the rows with missing data seeing that it is less than 30% missing."
   ]
  },
  {
   "cell_type": "code",
   "execution_count": 17,
   "metadata": {},
   "outputs": [],
   "source": [
    "securities_nonull = securities.dropna(axis='columns')\n",
    "fundamentals_nonull = fundamentals.dropna()"
   ]
  },
  {
   "cell_type": "code",
   "execution_count": 18,
   "metadata": {},
   "outputs": [
    {
     "data": {
      "image/png": "[encoded data removed]",
      "text/plain": [
       "<Figure size 1080x360 with 4 Axes>"
      ]
     },
     "metadata": {
      "needs_background": "light"
     },
     "output_type": "display_data"
    }
   ],
   "source": [
    "f, axs = plt.subplots(1, 2, figsize=(15,5), sharey=True)\n",
    "\n",
    "axs[0] = sns.heatmap(fundamentals_nonull.isna(), ax=axs[0])\n",
    "axs[0].set_title('Fundamentals DF Null Value Heatmap')\n",
    "axs[1] = sns.heatmap(securities_nonull.isna(), ax=axs[1])\n",
    "axs[1].set_title('Securities DF Null Value Heatmap')\n",
    "plt.show()"
   ]
  },
  {
   "cell_type": "markdown",
   "metadata": {},
   "source": [
    "## <span id='explore'>Exploratory Data Analysis</span>"
   ]
  },
  {
   "cell_type": "code",
   "execution_count": 19,
   "metadata": {},
   "outputs": [
    {
     "data": {
      "text/plain": [
       "Text(0.5, 1.0, 'Open Prices for WLTW with Split')"
      ]
     },
     "execution_count": 19,
     "metadata": {},
     "output_type": "execute_result"
    },
    {
     "data": {
      "image/png": "[encoded data removed]",
      "text/plain": [
       "<Figure size 864x288 with 2 Axes>"
      ]
     },
     "metadata": {
      "needs_background": "light"
     },
     "output_type": "display_data"
    }
   ],
   "source": [
    "# graph price vs price-split\n",
    "f, axs = plt.subplots(1,2, figsize=(12,4))\n",
    "\n",
    "axs[0] = sns.lineplot(data=prices.loc[prices['symbol'] == 'WLTW',:], x=\"date\", y=\"open\", ax=axs[0])\n",
    "axs[0].set_title('Open Prices for WLTW')\n",
    "\n",
    "axs[1] = sns.lineplot(data=prices_split.loc[prices_split['symbol'] == 'WLTW',:], x=\"date\", y=\"open\", ax=axs[1])\n",
    "axs[1].set_title('Open Prices for WLTW with Split')"
   ]
  },
  {
   "cell_type": "markdown",
   "metadata": {},
   "source": [
    "There is no visual difference in prices vs prices-split for WLTW but that may only be because the stock has never split. Because the prices-split data makes adjustments for when the stocks split, we will use the prices split dataset as our main dataset. "
   ]
  },
  {
   "cell_type": "markdown",
   "metadata": {},
   "source": [
    "#### <span id='sma'>Create sma column</span>"
   ]
  },
  {
   "cell_type": "code",
   "execution_count": 54,
   "metadata": {
    "scrolled": true
   },
   "outputs": [],
   "source": [
    "# copy the prices_split DF to keep original untouched\n",
    "main = prices_split.copy()\n",
    "\n",
    "smas = [5,50,100]\n",
    "\n",
    "# select one symbol at a time, compute SMA, merge it into main df, repeat\n",
    "for sma in smas:\n",
    "    for symbol in main.symbol.unique():\n",
    "        temps = main.loc[main['symbol']==symbol,['close']].apply(lambda x: x.rolling(window=sma).mean())\n",
    "        temps.rename(columns={'close':'MA_{}'.format(sma)}, inplace=True )\n",
    "        main.loc[main['symbol']==symbol,['MA_{}'.format(sma)]] = temps"
   ]
  },
  {
   "cell_type": "markdown",
   "metadata": {},
   "source": [
    "#### <span id='ema'>Create Ema column</span>"
   ]
  },
  {
   "cell_type": "code",
   "execution_count": 61,
   "metadata": {},
   "outputs": [],
   "source": [
    "emas = [0.5,0.75]\n",
    "# emas = ['1 day']\n",
    "\n",
    "# select one symbol at a time, compute SMA, merge it into main df, repeat\n",
    "for ema in emas:\n",
    "    for symbol in main.symbol.unique():\n",
    "        temps = main.loc[main['symbol']==symbol,['close']].apply(lambda x: x.ewm(com=ema).mean())\n",
    "        temps.rename(columns={'close':'EMA_{}'.format(ema)}, inplace=True )\n",
    "        main.loc[main['symbol']==symbol,['EMA_{}'.format(ema)]] = temps"
   ]
  },
  {
   "cell_type": "code",
   "execution_count": 62,
   "metadata": {},
   "outputs": [
    {
     "data": {
      "text/html": [
       "<div>\n",
       "<style scoped>\n",
       "    .dataframe tbody tr th:only-of-type {\n",
       "        vertical-align: middle;\n",
       "    }\n",
       "\n",
       "    .dataframe tbody tr th {\n",
       "        vertical-align: top;\n",
       "    }\n",
       "\n",
       "    .dataframe thead th {\n",
       "        text-align: right;\n",
       "    }\n",
       "</style>\n",
       "<table border=\"1\" class=\"dataframe\">\n",
       "  <thead>\n",
       "    <tr style=\"text-align: right;\">\n",
       "      <th></th>\n",
       "      <th>date</th>\n",
       "      <th>symbol</th>\n",
       "      <th>open</th>\n",
       "      <th>close</th>\n",
       "      <th>low</th>\n",
       "      <th>high</th>\n",
       "      <th>volume</th>\n",
       "      <th>MA_5</th>\n",
       "      <th>MA_50</th>\n",
       "      <th>MA_100</th>\n",
       "      <th>EMA_5</th>\n",
       "      <th>EMA_50</th>\n",
       "      <th>EMA_100</th>\n",
       "      <th>EMA_0.5</th>\n",
       "      <th>EMA_0.75</th>\n",
       "    </tr>\n",
       "  </thead>\n",
       "  <tbody>\n",
       "    <tr>\n",
       "      <th>851259</th>\n",
       "      <td>2016-12-30</td>\n",
       "      <td>ZBH</td>\n",
       "      <td>103.309998</td>\n",
       "      <td>103.199997</td>\n",
       "      <td>102.849998</td>\n",
       "      <td>103.930000</td>\n",
       "      <td>973800.0</td>\n",
       "      <td>102.649999</td>\n",
       "      <td>105.7964</td>\n",
       "      <td>117.0272</td>\n",
       "      <td>103.055891</td>\n",
       "      <td>113.378068</td>\n",
       "      <td>112.905260</td>\n",
       "      <td>103.241260</td>\n",
       "      <td>103.218137</td>\n",
       "    </tr>\n",
       "    <tr>\n",
       "      <th>851260</th>\n",
       "      <td>2016-12-30</td>\n",
       "      <td>ZION</td>\n",
       "      <td>43.070000</td>\n",
       "      <td>43.040001</td>\n",
       "      <td>42.689999</td>\n",
       "      <td>43.310001</td>\n",
       "      <td>1938100.0</td>\n",
       "      <td>43.649999</td>\n",
       "      <td>38.1438</td>\n",
       "      <td>34.1657</td>\n",
       "      <td>42.802658</td>\n",
       "      <td>33.739105</td>\n",
       "      <td>30.958173</td>\n",
       "      <td>43.033609</td>\n",
       "      <td>43.068465</td>\n",
       "    </tr>\n",
       "    <tr>\n",
       "      <th>851261</th>\n",
       "      <td>2016-12-30</td>\n",
       "      <td>ZTS</td>\n",
       "      <td>53.639999</td>\n",
       "      <td>53.529999</td>\n",
       "      <td>53.270000</td>\n",
       "      <td>53.740002</td>\n",
       "      <td>1701200.0</td>\n",
       "      <td>53.570000</td>\n",
       "      <td>50.7964</td>\n",
       "      <td>51.0757</td>\n",
       "      <td>52.743518</td>\n",
       "      <td>50.052398</td>\n",
       "      <td>48.374666</td>\n",
       "      <td>53.548654</td>\n",
       "      <td>53.550210</td>\n",
       "    </tr>\n",
       "    <tr>\n",
       "      <th>851262</th>\n",
       "      <td>2016-12-30</td>\n",
       "      <td>AIV</td>\n",
       "      <td>44.730000</td>\n",
       "      <td>45.450001</td>\n",
       "      <td>44.410000</td>\n",
       "      <td>45.590000</td>\n",
       "      <td>1380900.0</td>\n",
       "      <td>44.540000</td>\n",
       "      <td>42.7918</td>\n",
       "      <td>43.7021</td>\n",
       "      <td>44.050054</td>\n",
       "      <td>43.022487</td>\n",
       "      <td>41.846916</td>\n",
       "      <td>45.154789</td>\n",
       "      <td>45.058259</td>\n",
       "    </tr>\n",
       "    <tr>\n",
       "      <th>851263</th>\n",
       "      <td>2016-12-30</td>\n",
       "      <td>FTV</td>\n",
       "      <td>54.200001</td>\n",
       "      <td>53.630001</td>\n",
       "      <td>53.389999</td>\n",
       "      <td>54.480000</td>\n",
       "      <td>705100.0</td>\n",
       "      <td>54.386001</td>\n",
       "      <td>53.1420</td>\n",
       "      <td>52.1782</td>\n",
       "      <td>54.200127</td>\n",
       "      <td>52.371535</td>\n",
       "      <td>52.019660</td>\n",
       "      <td>53.753405</td>\n",
       "      <td>53.799028</td>\n",
       "    </tr>\n",
       "  </tbody>\n",
       "</table>\n",
       "</div>"
      ],
      "text/plain": [
       "             date symbol        open       close         low        high  \\\n",
       "851259 2016-12-30    ZBH  103.309998  103.199997  102.849998  103.930000   \n",
       "851260 2016-12-30   ZION   43.070000   43.040001   42.689999   43.310001   \n",
       "851261 2016-12-30    ZTS   53.639999   53.529999   53.270000   53.740002   \n",
       "851262 2016-12-30    AIV   44.730000   45.450001   44.410000   45.590000   \n",
       "851263 2016-12-30    FTV   54.200001   53.630001   53.389999   54.480000   \n",
       "\n",
       "           volume        MA_5     MA_50    MA_100       EMA_5      EMA_50  \\\n",
       "851259   973800.0  102.649999  105.7964  117.0272  103.055891  113.378068   \n",
       "851260  1938100.0   43.649999   38.1438   34.1657   42.802658   33.739105   \n",
       "851261  1701200.0   53.570000   50.7964   51.0757   52.743518   50.052398   \n",
       "851262  1380900.0   44.540000   42.7918   43.7021   44.050054   43.022487   \n",
       "851263   705100.0   54.386001   53.1420   52.1782   54.200127   52.371535   \n",
       "\n",
       "           EMA_100     EMA_0.5    EMA_0.75  \n",
       "851259  112.905260  103.241260  103.218137  \n",
       "851260   30.958173   43.033609   43.068465  \n",
       "851261   48.374666   53.548654   53.550210  \n",
       "851262   41.846916   45.154789   45.058259  \n",
       "851263   52.019660   53.753405   53.799028  "
      ]
     },
     "execution_count": 62,
     "metadata": {},
     "output_type": "execute_result"
    }
   ],
   "source": [
    "main.tail()"
   ]
  },
  {
   "cell_type": "markdown",
   "metadata": {},
   "source": [
    "#### <span id='rsi'>Create RSI column</span>"
   ]
  },
  {
   "cell_type": "code",
   "execution_count": 63,
   "metadata": {},
   "outputs": [],
   "source": [
    "n = 14\n",
    "def rma(x, n, y0):\n",
    "    a = (n-1) / n\n",
    "    ak = a**np.arange(len(x)-1, -1, -1)\n",
    "    return np.r_[np.full(n, np.nan), y0, np.cumsum(ak * x) / ak / n + y0 * a**np.arange(1, len(x)+1)]"
   ]
  },
  {
   "cell_type": "code",
   "execution_count": 64,
   "metadata": {},
   "outputs": [
    {
     "name": "stderr",
     "output_type": "stream",
     "text": [
      "<ipython-input-63-6f8b93a523f3>:5: RuntimeWarning: invalid value encountered in true_divide\n",
      "  return np.r_[np.full(n, np.nan), y0, np.cumsum(ak * x) / ak / n + y0 * a**np.arange(1, len(x)+1)]\n"
     ]
    }
   ],
   "source": [
    "## CREATE RSI INDICATOR\n",
    "\n",
    "# select one symbol at a time, compute SMA, merge it into main df, repeat\n",
    "for ema in emas:\n",
    "    for symbol in main.symbol.unique():\n",
    "        temps = main.loc[main['symbol']==symbol,['close']].apply(lambda x: x.ewm(com=ema).mean())\n",
    "        temps.rename(columns={'close':'EMA_{}'.format(ema)}, inplace=True )\n",
    "        main.loc[main['symbol']==symbol,['EMA_{}'.format(ema)]] = temps\n",
    "\n",
    "\n",
    "\n",
    "\n",
    "main['change'] = main['close'].diff()\n",
    "main['gain'] = main.change.mask(main.change < 0, 0.0)\n",
    "main['loss'] = -main.change.mask(main.change > 0, -0.0)\n",
    "main['avg_gain'] = rma(main.gain[n+1:].to_numpy(), n, np.nansum(main.gain.to_numpy()[:n+1])/n)\n",
    "main['avg_loss'] = rma(main.loss[n+1:].to_numpy(), n, np.nansum(main.loss.to_numpy()[:n+1])/n)\n",
    "\n",
    "main['rs'] = main.avg_gain / main.avg_loss\n",
    "main['rsi_14'] = 100 - (100 / (1 + main.rs))"
   ]
  },
  {
   "cell_type": "code",
   "execution_count": 65,
   "metadata": {},
   "outputs": [
    {
     "data": {
      "text/html": [
       "<div>\n",
       "<style scoped>\n",
       "    .dataframe tbody tr th:only-of-type {\n",
       "        vertical-align: middle;\n",
       "    }\n",
       "\n",
       "    .dataframe tbody tr th {\n",
       "        vertical-align: top;\n",
       "    }\n",
       "\n",
       "    .dataframe thead th {\n",
       "        text-align: right;\n",
       "    }\n",
       "</style>\n",
       "<table border=\"1\" class=\"dataframe\">\n",
       "  <thead>\n",
       "    <tr style=\"text-align: right;\">\n",
       "      <th></th>\n",
       "      <th>date</th>\n",
       "      <th>symbol</th>\n",
       "      <th>open</th>\n",
       "      <th>close</th>\n",
       "      <th>low</th>\n",
       "      <th>high</th>\n",
       "      <th>volume</th>\n",
       "      <th>MA_5</th>\n",
       "      <th>MA_50</th>\n",
       "      <th>MA_100</th>\n",
       "      <th>...</th>\n",
       "      <th>EMA_100</th>\n",
       "      <th>EMA_0.5</th>\n",
       "      <th>EMA_0.75</th>\n",
       "      <th>change</th>\n",
       "      <th>gain</th>\n",
       "      <th>loss</th>\n",
       "      <th>avg_gain</th>\n",
       "      <th>avg_loss</th>\n",
       "      <th>rs</th>\n",
       "      <th>rsi_14</th>\n",
       "    </tr>\n",
       "  </thead>\n",
       "  <tbody>\n",
       "    <tr>\n",
       "      <th>0</th>\n",
       "      <td>2016-01-05</td>\n",
       "      <td>WLTW</td>\n",
       "      <td>123.430000</td>\n",
       "      <td>125.839996</td>\n",
       "      <td>122.309998</td>\n",
       "      <td>126.250000</td>\n",
       "      <td>2163600.0</td>\n",
       "      <td>NaN</td>\n",
       "      <td>NaN</td>\n",
       "      <td>NaN</td>\n",
       "      <td>...</td>\n",
       "      <td>125.839996</td>\n",
       "      <td>125.839996</td>\n",
       "      <td>125.839996</td>\n",
       "      <td>NaN</td>\n",
       "      <td>NaN</td>\n",
       "      <td>NaN</td>\n",
       "      <td>NaN</td>\n",
       "      <td>NaN</td>\n",
       "      <td>NaN</td>\n",
       "      <td>NaN</td>\n",
       "    </tr>\n",
       "    <tr>\n",
       "      <th>1</th>\n",
       "      <td>2016-01-06</td>\n",
       "      <td>WLTW</td>\n",
       "      <td>125.239998</td>\n",
       "      <td>119.980003</td>\n",
       "      <td>119.940002</td>\n",
       "      <td>125.540001</td>\n",
       "      <td>2386400.0</td>\n",
       "      <td>NaN</td>\n",
       "      <td>NaN</td>\n",
       "      <td>NaN</td>\n",
       "      <td>...</td>\n",
       "      <td>122.899845</td>\n",
       "      <td>121.445001</td>\n",
       "      <td>121.738001</td>\n",
       "      <td>-5.859993</td>\n",
       "      <td>0.000000</td>\n",
       "      <td>5.859993</td>\n",
       "      <td>NaN</td>\n",
       "      <td>NaN</td>\n",
       "      <td>NaN</td>\n",
       "      <td>NaN</td>\n",
       "    </tr>\n",
       "    <tr>\n",
       "      <th>2</th>\n",
       "      <td>2016-01-07</td>\n",
       "      <td>WLTW</td>\n",
       "      <td>116.379997</td>\n",
       "      <td>114.949997</td>\n",
       "      <td>114.930000</td>\n",
       "      <td>119.739998</td>\n",
       "      <td>2489500.0</td>\n",
       "      <td>NaN</td>\n",
       "      <td>NaN</td>\n",
       "      <td>NaN</td>\n",
       "      <td>...</td>\n",
       "      <td>120.231507</td>\n",
       "      <td>116.948460</td>\n",
       "      <td>117.527720</td>\n",
       "      <td>-5.030006</td>\n",
       "      <td>0.000000</td>\n",
       "      <td>5.030006</td>\n",
       "      <td>NaN</td>\n",
       "      <td>NaN</td>\n",
       "      <td>NaN</td>\n",
       "      <td>NaN</td>\n",
       "    </tr>\n",
       "    <tr>\n",
       "      <th>3</th>\n",
       "      <td>2016-01-08</td>\n",
       "      <td>WLTW</td>\n",
       "      <td>115.480003</td>\n",
       "      <td>116.620003</td>\n",
       "      <td>113.500000</td>\n",
       "      <td>117.440002</td>\n",
       "      <td>2006300.0</td>\n",
       "      <td>NaN</td>\n",
       "      <td>NaN</td>\n",
       "      <td>NaN</td>\n",
       "      <td>...</td>\n",
       "      <td>119.319222</td>\n",
       "      <td>116.726751</td>\n",
       "      <td>116.990915</td>\n",
       "      <td>1.670006</td>\n",
       "      <td>1.670006</td>\n",
       "      <td>0.000000</td>\n",
       "      <td>NaN</td>\n",
       "      <td>NaN</td>\n",
       "      <td>NaN</td>\n",
       "      <td>NaN</td>\n",
       "    </tr>\n",
       "    <tr>\n",
       "      <th>4</th>\n",
       "      <td>2016-01-11</td>\n",
       "      <td>WLTW</td>\n",
       "      <td>117.010002</td>\n",
       "      <td>114.970001</td>\n",
       "      <td>114.089996</td>\n",
       "      <td>117.330002</td>\n",
       "      <td>1408600.0</td>\n",
       "      <td>119.508</td>\n",
       "      <td>NaN</td>\n",
       "      <td>NaN</td>\n",
       "      <td>...</td>\n",
       "      <td>118.437277</td>\n",
       "      <td>115.550745</td>\n",
       "      <td>115.819166</td>\n",
       "      <td>-1.650002</td>\n",
       "      <td>0.000000</td>\n",
       "      <td>1.650002</td>\n",
       "      <td>NaN</td>\n",
       "      <td>NaN</td>\n",
       "      <td>NaN</td>\n",
       "      <td>NaN</td>\n",
       "    </tr>\n",
       "  </tbody>\n",
       "</table>\n",
       "<p>5 rows × 22 columns</p>\n",
       "</div>"
      ],
      "text/plain": [
       "        date symbol        open       close         low        high  \\\n",
       "0 2016-01-05   WLTW  123.430000  125.839996  122.309998  126.250000   \n",
       "1 2016-01-06   WLTW  125.239998  119.980003  119.940002  125.540001   \n",
       "2 2016-01-07   WLTW  116.379997  114.949997  114.930000  119.739998   \n",
       "3 2016-01-08   WLTW  115.480003  116.620003  113.500000  117.440002   \n",
       "4 2016-01-11   WLTW  117.010002  114.970001  114.089996  117.330002   \n",
       "\n",
       "      volume     MA_5  MA_50  MA_100  ...     EMA_100     EMA_0.5    EMA_0.75  \\\n",
       "0  2163600.0      NaN    NaN     NaN  ...  125.839996  125.839996  125.839996   \n",
       "1  2386400.0      NaN    NaN     NaN  ...  122.899845  121.445001  121.738001   \n",
       "2  2489500.0      NaN    NaN     NaN  ...  120.231507  116.948460  117.527720   \n",
       "3  2006300.0      NaN    NaN     NaN  ...  119.319222  116.726751  116.990915   \n",
       "4  1408600.0  119.508    NaN     NaN  ...  118.437277  115.550745  115.819166   \n",
       "\n",
       "     change      gain      loss  avg_gain  avg_loss  rs  rsi_14  \n",
       "0       NaN       NaN       NaN       NaN       NaN NaN     NaN  \n",
       "1 -5.859993  0.000000  5.859993       NaN       NaN NaN     NaN  \n",
       "2 -5.030006  0.000000  5.030006       NaN       NaN NaN     NaN  \n",
       "3  1.670006  1.670006  0.000000       NaN       NaN NaN     NaN  \n",
       "4 -1.650002  0.000000  1.650002       NaN       NaN NaN     NaN  \n",
       "\n",
       "[5 rows x 22 columns]"
      ]
     },
     "execution_count": 65,
     "metadata": {},
     "output_type": "execute_result"
    }
   ],
   "source": [
    "main.head()"
   ]
  },
  {
   "cell_type": "markdown",
   "metadata": {},
   "source": [
    "#### <span id='visualize'>Visualize new columns against the prices</span>"
   ]
  },
  {
   "cell_type": "code",
   "execution_count": 110,
   "metadata": {},
   "outputs": [
    {
     "data": {
      "text/plain": [
       "Text(0.5, 1.0, 'WLTW Price VS Multiple Technical Indicators')"
      ]
     },
     "execution_count": 110,
     "metadata": {},
     "output_type": "execute_result"
    },
    {
     "data": {
      "image/png": "[encoded data removed]",
      "text/plain": [
       "<Figure size 1440x720 with 1 Axes>"
      ]
     },
     "metadata": {
      "needs_background": "light"
     },
     "output_type": "display_data"
    }
   ],
   "source": [
    "plt.figure(figsize=(20,10))\n",
    "plt.ylim(110, 135)\n",
    "sns.lineplot(data=main.loc[main['symbol']=='WLTW',['close','rsi_14','MA_5','MA_100','EMA_0.5']].iloc[-200:])\n",
    "plt.xlabel('days')\n",
    "plt.ylabel('dollars')\n",
    "plt.title('WLTW Price VS Multiple Technical Indicators')"
   ]
  },
  {
   "cell_type": "code",
   "execution_count": 116,
   "metadata": {},
   "outputs": [
    {
     "data": {
      "text/plain": [
       "<AxesSubplot:>"
      ]
     },
     "execution_count": 116,
     "metadata": {},
     "output_type": "execute_result"
    },
    {
     "data": {
      "image/png": "[encoded data removed]",
      "text/plain": [
       "<Figure size 432x288 with 2 Axes>"
      ]
     },
     "metadata": {
      "needs_background": "light"
     },
     "output_type": "display_data"
    }
   ],
   "source": [
    "sns.heatmap(main.loc[main['symbol']=='WLTW',['close','MA_5','MA_100','EMA_0.5']].iloc[-200:].corr())"
   ]
  },
  {
   "cell_type": "code",
   "execution_count": null,
   "metadata": {},
   "outputs": [],
   "source": []
  }
 ],
 "metadata": {
  "kernelspec": {
   "display_name": "Python 3",
   "language": "python",
   "name": "python3"
  },
  "language_info": {
   "codemirror_mode": {
    "name": "ipython",
    "version": 3
   },
   "file_extension": ".py",
   "mimetype": "text/x-python",
   "name": "python",
   "nbconvert_exporter": "python",
   "pygments_lexer": "ipython3",
   "version": "3.9.2"
  }
 },
 "nbformat": 4,
 "nbformat_minor": 4
}
